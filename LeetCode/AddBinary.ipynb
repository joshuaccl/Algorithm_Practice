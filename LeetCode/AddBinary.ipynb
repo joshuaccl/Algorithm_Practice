{
 "cells": [
  {
   "cell_type": "code",
   "execution_count": 14,
   "metadata": {},
   "outputs": [
    {
     "name": "stdout",
     "output_type": "stream",
     "text": [
      "10\n"
     ]
    }
   ],
   "source": [
    "def addBinary(a,b):\n",
    "    c = int(a)\n",
    "    d = int(b)\n",
    "    e = str(c + d)\n",
    "    c = [int(x) for x in e]\n",
    "    i = len(c) - 1\n",
    "    while i >= 0:\n",
    "        if i != 0:\n",
    "            if c[i] == 2:\n",
    "                c[i] = 0\n",
    "                c[i-1] += 1\n",
    "            elif c[i] == 3:\n",
    "                c[i] = 1\n",
    "                c[i-1] += 1\n",
    "            i-=1\n",
    "        if i == 0:\n",
    "            if c[i] == 2:\n",
    "                c[i] = 0\n",
    "                c.insert(0,1)\n",
    "            elif c[i] == 3:\n",
    "                c[i] = 1\n",
    "                c.insert(0,1)\n",
    "            c = [str(x) for x in c]\n",
    "            return ''.join(c)\n",
    "        \n",
    "print(addBinary('1','1'))"
   ]
  }
 ],
 "metadata": {
  "kernelspec": {
   "display_name": "Python 3",
   "language": "python",
   "name": "python3"
  },
  "language_info": {
   "codemirror_mode": {
    "name": "ipython",
    "version": 3
   },
   "file_extension": ".py",
   "mimetype": "text/x-python",
   "name": "python",
   "nbconvert_exporter": "python",
   "pygments_lexer": "ipython3",
   "version": "3.6.1"
  }
 },
 "nbformat": 4,
 "nbformat_minor": 2
}
