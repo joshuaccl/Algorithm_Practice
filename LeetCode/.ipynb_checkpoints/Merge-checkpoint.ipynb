{
 "cells": [
  {
   "cell_type": "code",
   "execution_count": 20,
   "metadata": {},
   "outputs": [
    {
     "name": "stdout",
     "output_type": "stream",
     "text": [
      "[1]\n"
     ]
    }
   ],
   "source": [
    "def merge(nums1, m, nums2, n):\n",
    "    while m > 0 and n > 0:\n",
    "        if nums2[n-1] <= nums1[m-1]:\n",
    "            nums1[m+n-1] = nums1[m-1]\n",
    "            m-=1\n",
    "        else:\n",
    "            nums1[m+n-1] = nums2[n-1]\n",
    "            n-=1\n",
    "    if n > 0:\n",
    "        nums1[:n] = nums2[:n]\n",
    "        \n",
    "nums1 = [0]\n",
    "nums2 = [1]\n",
    "merge(nums1,0,nums2,1)\n",
    "print(nums1)"
   ]
  }
 ],
 "metadata": {
  "kernelspec": {
   "display_name": "Python 3",
   "language": "python",
   "name": "python3"
  },
  "language_info": {
   "codemirror_mode": {
    "name": "ipython",
    "version": 3
   },
   "file_extension": ".py",
   "mimetype": "text/x-python",
   "name": "python",
   "nbconvert_exporter": "python",
   "pygments_lexer": "ipython3",
   "version": "3.6.1"
  }
 },
 "nbformat": 4,
 "nbformat_minor": 2
}
