{
 "cells": [
  {
   "cell_type": "code",
   "execution_count": 14,
   "metadata": {},
   "outputs": [
    {
     "name": "stdout",
     "output_type": "stream",
     "text": [
      "['cat', 'car', 'call', 'cart']\n",
      "['call', 'car', 'cart', 'cat']\n",
      "call\n",
      "cat\n",
      "ca\n"
     ]
    }
   ],
   "source": [
    "def longestCommonPrefix(strs):\n",
    "    if len(strs) == 0:\n",
    "        return ''\n",
    "    print(strs)\n",
    "    strs.sort()\n",
    "    print(strs)\n",
    "    i = 0\n",
    "    a = strs[0]\n",
    "    print(a)\n",
    "    b = strs[-1]\n",
    "    print(b)\n",
    "    rtype = []\n",
    "    if(len(a)==0):\n",
    "        return ''\n",
    "    while(a[i] == b[i]):\n",
    "        rtype.append(a[i])\n",
    "        i+=1\n",
    "        if i>(len(a)-1):\n",
    "            break\n",
    "        if i>(len(b)-1):\n",
    "            break\n",
    "    return ''.join(rtype)\n",
    "    \n",
    "print(longestCommonPrefix(['cat', 'car', 'call', 'cart']))"
   ]
  }
 ],
 "metadata": {
  "kernelspec": {
   "display_name": "Python 3",
   "language": "python",
   "name": "python3"
  },
  "language_info": {
   "codemirror_mode": {
    "name": "ipython",
    "version": 3
   },
   "file_extension": ".py",
   "mimetype": "text/x-python",
   "name": "python",
   "nbconvert_exporter": "python",
   "pygments_lexer": "ipython3",
   "version": "3.6.1"
  }
 },
 "nbformat": 4,
 "nbformat_minor": 2
}
