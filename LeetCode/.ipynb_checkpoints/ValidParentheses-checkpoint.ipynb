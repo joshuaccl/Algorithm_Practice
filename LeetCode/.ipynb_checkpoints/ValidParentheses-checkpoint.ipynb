{
 "cells": [
  {
   "cell_type": "code",
   "execution_count": 20,
   "metadata": {},
   "outputs": [
    {
     "name": "stdout",
     "output_type": "stream",
     "text": [
      "False\n"
     ]
    }
   ],
   "source": [
    "def isValid(s):\n",
    "    queue = []\n",
    "    mapper = {'(':1, '{':2, '[':3, ')':1, '}':2, ']':3}\n",
    "    if len(s) % 2 == 1:\n",
    "        return False\n",
    "    if s[0] == ')' or s[0] == '}' or s[0] == ']':\n",
    "        return False\n",
    "    for char in s:\n",
    "        if char == '(' or char == '{' or char == '[':\n",
    "            queue.append(mapper[char])\n",
    "        else:\n",
    "            if queue.pop() != mapper[char]:\n",
    "                return 'false'\n",
    "    if len(queue) != 0:\n",
    "        return False\n",
    "    return 'true'\n",
    "print(isValid('(('))"
   ]
  }
 ],
 "metadata": {
  "kernelspec": {
   "display_name": "Python 3",
   "language": "python",
   "name": "python3"
  },
  "language_info": {
   "codemirror_mode": {
    "name": "ipython",
    "version": 3
   },
   "file_extension": ".py",
   "mimetype": "text/x-python",
   "name": "python",
   "nbconvert_exporter": "python",
   "pygments_lexer": "ipython3",
   "version": "3.6.1"
  }
 },
 "nbformat": 4,
 "nbformat_minor": 2
}
