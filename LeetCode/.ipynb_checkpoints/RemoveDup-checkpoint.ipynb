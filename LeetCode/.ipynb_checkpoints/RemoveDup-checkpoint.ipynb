{
 "cells": [
  {
   "cell_type": "code",
   "execution_count": 1,
   "metadata": {},
   "outputs": [
    {
     "name": "stdout",
     "output_type": "stream",
     "text": [
      "1\n"
     ]
    }
   ],
   "source": [
    "def removeDup(nums):\n",
    "    i = 0\n",
    "    j = 0\n",
    "    while i < len(nums) - 1:\n",
    "        j= i + 1\n",
    "        while nums[i]==nums[j]:\n",
    "            del nums[j]\n",
    "            if j == len(nums):\n",
    "                return len(nums)\n",
    "            i+=1\n",
    "    return len(nums)\n",
    "print(removeDup([1,1,1]))"
   ]
  }
 ],
 "metadata": {
  "kernelspec": {
   "display_name": "Python 3",
   "language": "python",
   "name": "python3"
  },
  "language_info": {
   "codemirror_mode": {
    "name": "ipython",
    "version": 3
   },
   "file_extension": ".py",
   "mimetype": "text/x-python",
   "name": "python",
   "nbconvert_exporter": "python",
   "pygments_lexer": "ipython3",
   "version": "3.6.1"
  }
 },
 "nbformat": 4,
 "nbformat_minor": 2
}
