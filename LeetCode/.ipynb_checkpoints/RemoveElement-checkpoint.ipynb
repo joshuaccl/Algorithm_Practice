{
 "cells": [
  {
   "cell_type": "code",
   "execution_count": 8,
   "metadata": {},
   "outputs": [
    {
     "name": "stdout",
     "output_type": "stream",
     "text": [
      "[2, 2, 3, 3]\n",
      "2\n",
      "[2, 2]\n"
     ]
    }
   ],
   "source": [
    "def removeElement(nums, val):\n",
    "    if val in nums:\n",
    "        nums.sort()\n",
    "        print(nums)\n",
    "        a = nums.index(val)\n",
    "        while nums[a] == val:\n",
    "            del nums[a]\n",
    "            if a >= len(nums):\n",
    "                break\n",
    "        return len(nums)\n",
    "    else:\n",
    "        return len(nums)\n",
    "test = [3,2,2,3]\n",
    "print(removeElement(test,3))\n",
    "print(test)"
   ]
  }
 ],
 "metadata": {
  "kernelspec": {
   "display_name": "Python 3",
   "language": "python",
   "name": "python3"
  },
  "language_info": {
   "codemirror_mode": {
    "name": "ipython",
    "version": 3
   },
   "file_extension": ".py",
   "mimetype": "text/x-python",
   "name": "python",
   "nbconvert_exporter": "python",
   "pygments_lexer": "ipython3",
   "version": "3.6.1"
  }
 },
 "nbformat": 4,
 "nbformat_minor": 2
}
