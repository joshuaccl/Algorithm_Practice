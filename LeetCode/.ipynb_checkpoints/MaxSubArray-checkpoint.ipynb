{
 "cells": [
  {
   "cell_type": "code",
   "execution_count": 3,
   "metadata": {},
   "outputs": [
    {
     "name": "stdout",
     "output_type": "stream",
     "text": [
      "9\n"
     ]
    }
   ],
   "source": [
    "def maxSubArray(nums):\n",
    "    if nums is None:\n",
    "        return 0\n",
    "    else:\n",
    "        maxSum = currSum = nums[0]\n",
    "        for num in nums[1:]:\n",
    "            currSum = max(num, currSum + num)\n",
    "            maxSum = max(maxSum, currSum)\n",
    "        return maxSum\n",
    "\n",
    "print(maxSubArray([1,2,-3,-5,5,4,-2,1]))"
   ]
  }
 ],
 "metadata": {
  "kernelspec": {
   "display_name": "Python 3",
   "language": "python",
   "name": "python3"
  },
  "language_info": {
   "codemirror_mode": {
    "name": "ipython",
    "version": 3
   },
   "file_extension": ".py",
   "mimetype": "text/x-python",
   "name": "python",
   "nbconvert_exporter": "python",
   "pygments_lexer": "ipython3",
   "version": "3.6.1"
  }
 },
 "nbformat": 4,
 "nbformat_minor": 2
}
