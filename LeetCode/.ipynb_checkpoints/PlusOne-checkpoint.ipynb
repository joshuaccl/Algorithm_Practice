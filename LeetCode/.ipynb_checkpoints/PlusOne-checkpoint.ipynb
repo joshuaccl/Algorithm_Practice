{
 "cells": [
  {
   "cell_type": "code",
   "execution_count": 12,
   "metadata": {},
   "outputs": [
    {
     "name": "stdout",
     "output_type": "stream",
     "text": [
      "[9, 10]\n",
      "[10, 0]\n",
      "[1, 0, 0]\n"
     ]
    }
   ],
   "source": [
    "def plusOne(digits):\n",
    "    i = -1\n",
    "    digits[i] += 1\n",
    "    while digits[i] > 9:\n",
    "        print(digits)\n",
    "        digits[i] = 0\n",
    "        if i*-1 >= len(digits):\n",
    "            digits.insert(0,1)\n",
    "        else:\n",
    "            digits[i-1] += 1\n",
    "        i-=1\n",
    "    return digits\n",
    "\n",
    "print(plusOne([9,9]))"
   ]
  }
 ],
 "metadata": {
  "kernelspec": {
   "display_name": "Python 3",
   "language": "python",
   "name": "python3"
  },
  "language_info": {
   "codemirror_mode": {
    "name": "ipython",
    "version": 3
   },
   "file_extension": ".py",
   "mimetype": "text/x-python",
   "name": "python",
   "nbconvert_exporter": "python",
   "pygments_lexer": "ipython3",
   "version": "3.6.1"
  }
 },
 "nbformat": 4,
 "nbformat_minor": 2
}
