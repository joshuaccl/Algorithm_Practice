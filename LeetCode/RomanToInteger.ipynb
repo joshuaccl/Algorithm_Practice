{
 "cells": [
  {
   "cell_type": "code",
   "execution_count": 7,
   "metadata": {},
   "outputs": [
    {
     "name": "stdout",
     "output_type": "stream",
     "text": [
      "3999\n"
     ]
    }
   ],
   "source": [
    "# Given a roman numeral, convert it to an integer.\n",
    "# Input is guaranteed to be within the range from 1 to 3999.\n",
    "\n",
    "def romanToInt(s):\n",
    "    #    \"\"\"\n",
    "    #    :type s: str\n",
    "    #    :rtype: int\n",
    "    #    \"\"\"\n",
    "        values = {'I' : 1 , 'V' : 5, 'X' : 10, 'L' : 50, 'C' : 100, 'D' : 500, 'M' : 1000}\n",
    "        rtype = 0\n",
    "        for i in range(0, len(s) - 1):\n",
    "            if values[s[i]] < values[s[i+1]]:\n",
    "                rtype -= values[s[i]]\n",
    "            else:\n",
    "                rtype += values[s[i]]\n",
    "        return rtype + values[s[-1]]\n",
    "\n",
    "print(romanToInt(\"MMMCMXCIX\"))"
   ]
  }
 ],
 "metadata": {
  "kernelspec": {
   "display_name": "Python 3",
   "language": "python",
   "name": "python3"
  },
  "language_info": {
   "codemirror_mode": {
    "name": "ipython",
    "version": 3
   },
   "file_extension": ".py",
   "mimetype": "text/x-python",
   "name": "python",
   "nbconvert_exporter": "python",
   "pygments_lexer": "ipython3",
   "version": "3.6.1"
  }
 },
 "nbformat": 4,
 "nbformat_minor": 2
}
