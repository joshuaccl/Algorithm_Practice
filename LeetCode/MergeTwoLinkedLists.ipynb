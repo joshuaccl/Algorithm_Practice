{
 "cells": [
  {
   "cell_type": "code",
   "execution_count": null,
   "metadata": {
    "collapsed": true
   },
   "outputs": [],
   "source": [
    "# Definition for singly-linked list.\n",
    "class ListNode(object):\n",
    "     def __init__(self, x):\n",
    "        self.val = x\n",
    "        self.next = None\n",
    "\n",
    "class Solution(object):\n",
    "    def mergeTwoLists(self, l1, l2):\n",
    "        if l1 is None:\n",
    "            return l2\n",
    "        if l2 is None:\n",
    "            return l1\n",
    "        if l1.val < l2.val:\n",
    "            head = l1\n",
    "            rtype = head\n",
    "            l1 = l1.next\n",
    "        else:\n",
    "            head = l2\n",
    "            rtype = head\n",
    "            l2 = l2.next\n",
    "            \n",
    "        while l1 is not None and l2 is not None:\n",
    "            if l1.val < l2.val:\n",
    "                head.next = l1\n",
    "                head = l1\n",
    "                l1 = l1.next\n",
    "            else:\n",
    "                head.next = l2\n",
    "                head = l2\n",
    "                l2 = l2.next\n",
    "        if l1 is None:\n",
    "            head.next = l2\n",
    "        else:\n",
    "            head.next = l1\n",
    "        return rtype"
   ]
  }
 ],
 "metadata": {
  "kernelspec": {
   "display_name": "Python 3",
   "language": "python",
   "name": "python3"
  },
  "language_info": {
   "codemirror_mode": {
    "name": "ipython",
    "version": 3
   },
   "file_extension": ".py",
   "mimetype": "text/x-python",
   "name": "python",
   "nbconvert_exporter": "python",
   "pygments_lexer": "ipython3",
   "version": "3.6.1"
  }
 },
 "nbformat": 4,
 "nbformat_minor": 2
}
