{
 "cells": [
  {
   "cell_type": "code",
   "execution_count": 33,
   "metadata": {},
   "outputs": [
    {
     "name": "stdout",
     "output_type": "stream",
     "text": [
      "312211\n",
      "13112221\n"
     ]
    }
   ],
   "source": [
    "# Recusive implementation. Takes too long\n",
    "\n",
    "def countAndSay(n):\n",
    "    if n == 1:\n",
    "        return '1'\n",
    "    else:\n",
    "        s = countAndSay(n-1)\n",
    "        r = []\n",
    "        i = 0\n",
    "        while i < len(s):\n",
    "            j = 1\n",
    "            if i+j < len(s):\n",
    "                while s[i] == s[i+j]:\n",
    "                    j += 1\n",
    "                    if i + j == len(s):\n",
    "                        break\n",
    "            r.append(str(j))\n",
    "            r.append(s[i])\n",
    "            i += j\n",
    "        return ''.join(r)\n",
    "\n",
    "print(countAndSay(6))\n",
    "print(countAndSay(7))"
   ]
  },
  {
   "cell_type": "code",
   "execution_count": null,
   "metadata": {
    "collapsed": true
   },
   "outputs": [],
   "source": []
  }
 ],
 "metadata": {
  "kernelspec": {
   "display_name": "Python 3",
   "language": "python",
   "name": "python3"
  },
  "language_info": {
   "codemirror_mode": {
    "name": "ipython",
    "version": 3
   },
   "file_extension": ".py",
   "mimetype": "text/x-python",
   "name": "python",
   "nbconvert_exporter": "python",
   "pygments_lexer": "ipython3",
   "version": "3.6.1"
  }
 },
 "nbformat": 4,
 "nbformat_minor": 2
}
