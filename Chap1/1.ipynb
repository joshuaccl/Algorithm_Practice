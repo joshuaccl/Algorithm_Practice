{
 "cells": [
  {
   "cell_type": "code",
   "execution_count": 4,
   "metadata": {
    "scrolled": true
   },
   "outputs": [
    {
     "name": "stdout",
     "output_type": "stream",
     "text": [
      "true\n",
      "false\n",
      "true\n",
      "true\n"
     ]
    }
   ],
   "source": [
    "# Implement an algorithm to determine if a string \n",
    "# has all unique characters. What if you cannot use \n",
    "# additional data structures?\n",
    "\n",
    "# Assumptions: Ask whether ASCII or Unicode String\n",
    "\n",
    "a = 'abcd'\n",
    "b = 'aabc'\n",
    "c = ''\n",
    "d = 'a'\n",
    "\n",
    "def checkUnique(checkee):\n",
    "    # Can't make unique string over 128 unique characters\n",
    "    if len(checkee) > 128:\n",
    "        return 'false'\n",
    "    knownValues = {}\n",
    "    for x in checkee:\n",
    "        if x in knownValues:\n",
    "            return 'false'\n",
    "        else:\n",
    "            knownValues[x] = 'true'\n",
    "    return 'true'\n",
    "\n",
    "print(checkUnique(a))\n",
    "print(checkUnique(b))\n",
    "print(checkUnique(c))\n",
    "print(checkUnique(d))"
   ]
  }
 ],
 "metadata": {
  "kernelspec": {
   "display_name": "Python 3",
   "language": "python",
   "name": "python3"
  },
  "language_info": {
   "codemirror_mode": {
    "name": "ipython",
    "version": 3
   },
   "file_extension": ".py",
   "mimetype": "text/x-python",
   "name": "python",
   "nbconvert_exporter": "python",
   "pygments_lexer": "ipython3",
   "version": "3.6.1"
  }
 },
 "nbformat": 4,
 "nbformat_minor": 2
}
