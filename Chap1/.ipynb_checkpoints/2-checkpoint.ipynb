{
 "cells": [
  {
   "cell_type": "code",
   "execution_count": 6,
   "metadata": {},
   "outputs": [
    {
     "name": "stdout",
     "output_type": "stream",
     "text": [
      "true\n",
      "false\n",
      "true\n",
      "false\n"
     ]
    }
   ],
   "source": [
    "# Given two strings, write a method to decide\n",
    "# if one is a permutation of the other.\n",
    "\n",
    "# Assumptions: Ask if case sensitive and white spaces\n",
    "\n",
    "a = 'spring'\n",
    "b = 'pingrs'\n",
    "c = 'God'\n",
    "d = 'dog'\n",
    "e = 'cat good'\n",
    "f = 'good cat'\n",
    "\n",
    "def isPermutation(x, y):\n",
    "    if(len(x) != len(y)):\n",
    "        return 'false'\n",
    "    firstString = {}\n",
    "    for char in x:\n",
    "        firstString[char] = 'true'\n",
    "    # Debug Statement\n",
    "    # print(firstString)\n",
    "    for char in y:\n",
    "        if char in firstString:\n",
    "            continue\n",
    "        else:\n",
    "            return 'false'\n",
    "    return 'true'\n",
    "\n",
    "print(isPermutation(a ,b))\n",
    "print(isPermutation(c ,d))\n",
    "print(isPermutation(e ,f))\n",
    "print(isPermutation(a ,d))"
   ]
  },
  {
   "cell_type": "code",
   "execution_count": 17,
   "metadata": {},
   "outputs": [
    {
     "name": "stdout",
     "output_type": "stream",
     "text": [
      "true\n",
      "false\n",
      "true\n",
      "false\n"
     ]
    }
   ],
   "source": [
    "# Book solution #1\n",
    "\n",
    "a = 'spring'\n",
    "b = 'pingrs'\n",
    "c = 'God'\n",
    "d = 'dog'\n",
    "e = 'cat good'\n",
    "f = 'good cat'\n",
    "\n",
    "def isPermutation(x, y):\n",
    "    if(len(x) != len(y)):\n",
    "        return 'false'\n",
    "    sortx = list(x)\n",
    "    sorty = list(y)\n",
    "    sortx.sort()\n",
    "    sorty.sort()\n",
    "    for num in range(0, len(x)):\n",
    "        if(sortx[num] != sorty[num]):\n",
    "            return 'false'\n",
    "    return 'true'\n",
    "\n",
    "print(isPermutation(a ,b))\n",
    "print(isPermutation(c ,d))\n",
    "print(isPermutation(e ,f))\n",
    "print(isPermutation(a ,d))"
   ]
  },
  {
   "cell_type": "code",
   "execution_count": 25,
   "metadata": {},
   "outputs": [
    {
     "name": "stdout",
     "output_type": "stream",
     "text": [
      "true\n",
      "false\n",
      "true\n",
      "false\n"
     ]
    }
   ],
   "source": [
    "# Book solution #2\n",
    "\n",
    "a = 'spring'\n",
    "b = 'pingrs'\n",
    "c = 'God'\n",
    "d = 'dog'\n",
    "e = 'cat good'\n",
    "f = 'good cat'\n",
    "\n",
    "def isPermutation(x, y):\n",
    "    if(len(x) != len(y)):\n",
    "        return 'false' \n",
    "    charCount = {}\n",
    "    for char in x:\n",
    "        if char in charCount:\n",
    "            charCount[char]+= 1\n",
    "        else:\n",
    "            charCount[char] = 1\n",
    "    for char in y:\n",
    "        if char not in charCount:\n",
    "            return 'false'\n",
    "        charCount[char]-= 1\n",
    "        if charCount[char] < 0:\n",
    "            return 'false'\n",
    "    return 'true'\n",
    "\n",
    "print(isPermutation(a ,b))\n",
    "print(isPermutation(c ,d))\n",
    "print(isPermutation(e ,f))\n",
    "print(isPermutation(a ,d))"
   ]
  }
 ],
 "metadata": {
  "kernelspec": {
   "display_name": "Python 3",
   "language": "python",
   "name": "python3"
  },
  "language_info": {
   "codemirror_mode": {
    "name": "ipython",
    "version": 3
   },
   "file_extension": ".py",
   "mimetype": "text/x-python",
   "name": "python",
   "nbconvert_exporter": "python",
   "pygments_lexer": "ipython3",
   "version": "3.6.1"
  }
 },
 "nbformat": 4,
 "nbformat_minor": 2
}
