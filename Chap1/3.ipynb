{
 "cells": [
  {
   "cell_type": "code",
   "execution_count": 43,
   "metadata": {},
   "outputs": [
    {
     "name": "stdout",
     "output_type": "stream",
     "text": [
      "Mr%20John%20Smith\n"
     ]
    }
   ],
   "source": [
    "# Write a method to replace all spaces in a string with '%20'. \n",
    "# You may assume that the string has sufficient space at the end \n",
    "# to hold the additional characters, and that you are given the \n",
    "# \"true\" length of the string. (Note: If implementing in Java, \n",
    "# please use a character array so that you can perform this \n",
    "# operation in place.)\n",
    "# EXAMPLE\n",
    "# Input: \"Mr John Smith    \", 13\n",
    "# Output: \"Mr%20John%20Smith\"\n",
    "\n",
    "inputS = \"Mr John Smith     \"\n",
    "inputL = 13\n",
    "\n",
    "def URLify(stringList, length):\n",
    "    spaceCount = 0\n",
    "    for num in range(0, length):\n",
    "        if stringList[num] == ' ':\n",
    "            spaceCount += 1\n",
    "    counter = length + spaceCount * 2\n",
    "    if length < len(stringList):\n",
    "        stringList = stringList[0:counter]\n",
    "    for num in reversed(range(0, length)):\n",
    "        if(stringList[num]== ' '):\n",
    "            stringList[counter - 1] = '0'\n",
    "            stringList[counter - 2] = '2'\n",
    "            stringList[counter - 3] = '%'\n",
    "            counter-=3\n",
    "        else:\n",
    "            stringList[counter - 1] = stringList[num]\n",
    "            counter-=1\n",
    "    return ''.join(stringList)\n",
    "\n",
    "print(URLify(list(inputS), inputL))"
   ]
  }
 ],
 "metadata": {
  "kernelspec": {
   "display_name": "Python 3",
   "language": "python",
   "name": "python3"
  },
  "language_info": {
   "codemirror_mode": {
    "name": "ipython",
    "version": 3
   },
   "file_extension": ".py",
   "mimetype": "text/x-python",
   "name": "python",
   "nbconvert_exporter": "python",
   "pygments_lexer": "ipython3",
   "version": "3.6.1"
  }
 },
 "nbformat": 4,
 "nbformat_minor": 2
}
