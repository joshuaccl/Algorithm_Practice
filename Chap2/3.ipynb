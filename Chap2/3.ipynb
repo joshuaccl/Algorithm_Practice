{
 "cells": [
  {
   "cell_type": "code",
   "execution_count": null,
   "metadata": {
    "collapsed": true
   },
   "outputs": [],
   "source": [
    "# Implement an algorithm to delete a node in the middle \n",
    "# (ie., any node but the first and last node, \n",
    "# not necessarily the exact middle) of a singly \n",
    "# linked list, given only access to that node.\n",
    "\n",
    "# change the node to have the same value as the next node\n",
    "# then delete the next node and make the current node\n",
    "# point to the next.next node\n",
    "\n",
    "# note: the problem can not be solved if node to be deleted\n",
    "# is the last node"
   ]
  }
 ],
 "metadata": {
  "kernelspec": {
   "display_name": "Python 3",
   "language": "python",
   "name": "python3"
  },
  "language_info": {
   "codemirror_mode": {
    "name": "ipython",
    "version": 3
   },
   "file_extension": ".py",
   "mimetype": "text/x-python",
   "name": "python",
   "nbconvert_exporter": "python",
   "pygments_lexer": "ipython3",
   "version": "3.6.1"
  }
 },
 "nbformat": 4,
 "nbformat_minor": 2
}
