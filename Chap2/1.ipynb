{
 "cells": [
  {
   "cell_type": "code",
   "execution_count": 25,
   "metadata": {},
   "outputs": [
    {
     "name": "stdout",
     "output_type": "stream",
     "text": [
      "['a', 'b', 'c', 'd', 'd', 'e', 'a', 'g', 'b', 'b', 4, 5, 4]\n",
      "['a', 'b', 'c', 'd', 'd', 'e', 'a', 'g', 'b', 'b', 4, 5, 4]\n",
      "['a', 'b', 'c', 'd', 'd', 'e', 'a', 'g', 'b', 'b', 4, 5, 4]\n",
      "['a', 'b', 'c', 'd', 'd', 'e', 'a', 'g', 'b', 'b', 4, 5, 4]\n",
      "['a', 'b', 'c', 'd', 'd', 'e', 'a', 'g', 'b', 'b', 4, 5, 4]\n",
      "['a', 'b', 'c', 'd', 'e', 'a', 'g', 'b', 'b', 4, 5, 4]\n",
      "['a', 'b', 'c', 'd', 'e', 'a', 'g', 'b', 'b', 4, 5, 4]\n",
      "['a', 'b', 'c', 'd', 'e', 'g', 'b', 'b', 4, 5, 4]\n",
      "['a', 'b', 'c', 'd', 'e', 'g', 'b', 'b', 4, 5, 4]\n",
      "['a', 'b', 'c', 'd', 'e', 'g', 'b', 4, 5, 4]\n",
      "['a', 'b', 'c', 'd', 'e', 'g', 4, 5, 4]\n",
      "['a', 'b', 'c', 'd', 'e', 'g', 4, 5, 4]\n",
      "['a', 'b', 'c', 'd', 'e', 'g', 4, 5, 4]\n",
      "['a', 'b', 'c', 'd', 'e', 'g', 4, 5]\n"
     ]
    }
   ],
   "source": [
    "# Write code to remove duplicates from an unsorted linked list. \n",
    "# FOLLOW UP How would you solve this problem if a temporary buffer is not allowed?\n",
    "\n",
    "def noDup(linkedList):\n",
    "    values = {}\n",
    "    node = 0\n",
    "    while node < len(linkedList):\n",
    "        print(linkedList)\n",
    "        if linkedList[node] in values:\n",
    "            del linkedList[node]\n",
    "            node-=1\n",
    "        else:\n",
    "            values[linkedList[node]] = 1\n",
    "        node+=1\n",
    "    return linkedList\n",
    "\n",
    "a = ['a', 'b', 'c', 'd', 'd', 'e', 'a', 'g', 'b', 'b', 4, 5, 4]\n",
    "\n",
    "print(noDup(a))\n",
    "\n",
    "# O(n) for time\n",
    "\n",
    "# If no buffer is allowed you need to have two pointers, one to keep track of values\n",
    "# and one runner. The runner iterates through the list looking for duplicates\n",
    "# of the first pointer. Then increment the original pointer and run again\n",
    "# O(n^2) for time and O(1) for space"
   ]
  }
 ],
 "metadata": {
  "kernelspec": {
   "display_name": "Python 3",
   "language": "python",
   "name": "python3"
  },
  "language_info": {
   "codemirror_mode": {
    "name": "ipython",
    "version": 3
   },
   "file_extension": ".py",
   "mimetype": "text/x-python",
   "name": "python",
   "nbconvert_exporter": "python",
   "pygments_lexer": "ipython3",
   "version": "3.6.1"
  }
 },
 "nbformat": 4,
 "nbformat_minor": 2
}
