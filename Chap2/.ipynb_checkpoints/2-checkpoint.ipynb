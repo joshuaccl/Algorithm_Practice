{
 "cells": [
  {
   "cell_type": "code",
   "execution_count": 5,
   "metadata": {},
   "outputs": [
    {
     "name": "stdout",
     "output_type": "stream",
     "text": [
      "6\n"
     ]
    }
   ],
   "source": [
    "# Return Kth to Last: Implement an algorithm to find \n",
    "# the kth to last element of a singly linked list.\n",
    "\n",
    "def kfind(list, k):\n",
    "    num = 0\n",
    "    end = num + k\n",
    "    while end < len(list):\n",
    "        num += 1\n",
    "        end += 1\n",
    "    return list[num]\n",
    "\n",
    "print(kfind([3,4,6,7,8,2,4,1,6], 1))\n",
    "        "
   ]
  }
 ],
 "metadata": {
  "kernelspec": {
   "display_name": "Python 3",
   "language": "python",
   "name": "python3"
  },
  "language_info": {
   "codemirror_mode": {
    "name": "ipython",
    "version": 3
   },
   "file_extension": ".py",
   "mimetype": "text/x-python",
   "name": "python",
   "nbconvert_exporter": "python",
   "pygments_lexer": "ipython3",
   "version": "3.6.1"
  }
 },
 "nbformat": 4,
 "nbformat_minor": 2
}
